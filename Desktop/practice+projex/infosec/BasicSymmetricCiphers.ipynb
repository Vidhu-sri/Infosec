{
 "cells": [
  {
   "cell_type": "markdown",
   "id": "4ad0c87f05167413",
   "metadata": {},
   "source": [
    "BASIC SYMMETRIC CIPHERS\n",
    "\n"
   ]
  },
  {
   "cell_type": "code",
   "execution_count": 2,
   "id": "f76f195cb3842a1b",
   "metadata": {
    "ExecuteTime": {
     "end_time": "2024-08-02T03:48:42.465234Z",
     "start_time": "2024-08-02T03:48:42.455774Z"
    }
   },
   "outputs": [],
   "source": [
    "msg = \"I am learning information security\""
   ]
  },
  {
   "cell_type": "code",
   "execution_count": 4,
   "id": "fbc121e30a2defb3",
   "metadata": {
    "ExecuteTime": {
     "end_time": "2024-08-02T04:31:19.447772Z",
     "start_time": "2024-08-02T04:31:19.439993Z"
    }
   },
   "outputs": [
    {
     "name": "stdout",
     "output_type": "stream",
     "text": [
      "C ug fyulhcha chzilguncih mywolcns\n",
      "I am learning information security\n"
     ]
    }
   ],
   "source": [
    "#additive cypher\n",
    "def additive(msg,key):\n",
    "    SmolorBig = lambda x: 'A' if x.isupper() else 'a'\n",
    "    return ''.join([chr((ord(m)+key-ord(SmolorBig(m)))%26 + ord(SmolorBig(m))) if m!=' ' else m for m in msg])\n",
    "\n",
    "\n",
    "def decryptCeaser(encoded,key):\n",
    "\n",
    "    SmolorBig = lambda x: 'A' if x.isupper() else 'a'\n",
    "    pos = lambda x: x if x>=0 else x+26 \n",
    "    return ''.join([chr(pos(ord(m)-key-ord(SmolorBig(m)))%26 + ord(SmolorBig(m))) if m!=' ' else m for m in encoded])\n",
    "    \n",
    "print(additive(msg,20))\n",
    "print(decryptCeaser(additive(msg,20),20))"
   ]
  },
  {
   "cell_type": "code",
   "execution_count": 5,
   "id": "dbacd9ac0c458ea0",
   "metadata": {
    "ExecuteTime": {
     "end_time": "2024-08-02T05:25:11.601934Z",
     "start_time": "2024-08-02T05:25:11.595454Z"
    }
   },
   "outputs": [
    {
     "name": "stdout",
     "output_type": "stream",
     "text": [
      "Q ay jiavnqnm qnxcvyazqcn kieovqzw\n",
      "I am learning information security\n"
     ]
    }
   ],
   "source": [
    "#MULTIPLICATIVE CIPHER\n",
    "\n",
    "def multCipher(msg, key):\n",
    "    SmolorBig = lambda x: 'A' if x.isupper() else 'a'\n",
    "    return ''.join([chr(((ord(m) - ord(SmolorBig(m))) * key) % 26 + ord(SmolorBig(m))) if m != ' ' else m for m in msg])\n",
    "\n",
    "\n",
    "def decrypt(encoded, key):\n",
    "    SmolorBig = lambda x: 'A' if x.isupper() else 'a'\n",
    "    return ''.join([chr(((ord(m) - ord(SmolorBig(m))) * pow(key, -1, 26)) % 26 + ord(SmolorBig(m))) if m != ' ' else m for m in encoded])\n",
    "\n",
    "            \n",
    "            \n",
    "\n",
    "print(multCipher(msg,15))\n",
    "print(decrypt(multCipher(msg,15),15))\n",
    "            \n",
    "                \n",
    "        "
   ]
  },
  {
   "cell_type": "code",
   "execution_count": 6,
   "id": "5ac189bc3ce54798",
   "metadata": {
    "ExecuteTime": {
     "end_time": "2024-08-02T05:47:56.990592Z",
     "start_time": "2024-08-02T05:47:56.984819Z"
    }
   },
   "outputs": [
    {
     "name": "stdout",
     "output_type": "stream",
     "text": [
      "K us dcuphkhg khrwpsutkwh ecyipktq\n",
      "I am learning information security\n"
     ]
    }
   ],
   "source": [
    "#AFFINE CIPHER\n",
    "\n",
    "def affine(msg,a,b):\n",
    "    \n",
    "    SmolorBig = lambda x: 'A' if x.isupper() else 'a'\n",
    "    return ''.join([chr(((ord(c) - ord(SmolorBig(c)))*a+b)%26+ord(SmolorBig(c))) if c!=' ' else ' ' for c in msg])\n",
    "    \n",
    "\n",
    "def decryptAffine(encoded,a,b):\n",
    "        \n",
    "        \n",
    "        SmolorBig = lambda x: 'A' if x.isupper() else 'a'\n",
    "    \n",
    "        return ''.join([ chr((( pow(a,-1, 26)*(ord(c) - ord(SmolorBig(c)) - b)) \n",
    "                    % 26) + ord(SmolorBig(c))) if c!=' ' else ' ' for c in encoded ])\n",
    "    \n",
    "                                                                                                                        \n",
    "\n",
    "print(affine(msg,15,20))\n",
    "print(decryptAffine(affine(msg,7,20),7,20))\n",
    "    "
   ]
  },
  {
   "cell_type": "code",
   "execution_count": 7,
   "id": "20aea2388c58234b",
   "metadata": {
    "ExecuteTime": {
     "end_time": "2024-08-02T05:35:29.216835Z",
     "start_time": "2024-08-02T05:35:29.213459Z"
    }
   },
   "outputs": [],
   "source": [
    "msg1 = 'the house is being sold tonight'"
   ]
  },
  {
   "cell_type": "code",
   "execution_count": 8,
   "id": "a8f84d12ff8e1330",
   "metadata": {
    "ExecuteTime": {
     "end_time": "2024-08-02T05:52:57.277342Z",
     "start_time": "2024-08-02T05:52:57.266622Z"
    }
   },
   "outputs": [
    {
     "name": "stdout",
     "output_type": "stream",
     "text": [
      "wvp hfmvs ts thwyr jgor eoeajve\n"
     ]
    },
    {
     "data": {
      "text/plain": [
       "'the house is being sold tonight'"
      ]
     },
     "execution_count": 8,
     "metadata": {},
     "output_type": "execute_result"
    }
   ],
   "source": [
    "#Vigenere cipher\n",
    "import math\n",
    "def vigenere(msg,key):\n",
    "    msg = list(msg.lower())\n",
    "    repeat = math.ceil(len(msg)/len(key))\n",
    "    key = list(key.lower()*repeat)[:len(msg)]\n",
    "\n",
    "    return ''.join([chr((ord(a)-ord('a')  + ord(b)-ord('a'))%26+ord('a')) if a!=' ' else ' ' for a,b in zip(msg,key)])\n",
    "\n",
    "def decodevig(cipher,key):\n",
    "    cipher = list(cipher.lower())\n",
    "    repeat = math.ceil(len(cipher)/len(key))\n",
    "    key = list(key.lower()*repeat)[:len(cipher)]\n",
    "    return ''.join([chr((ord(a)-ord(b)+26)%26 + ord('a')) if a!=' ' else ' ' for a,b in zip(cipher,key)])\n",
    "print(vigenere(msg1,'dollars'))\n",
    "decodevig(vigenere(msg1,'dollars'),'dollars')\n",
    "    \n",
    "     "
   ]
  },
  {
   "cell_type": "code",
   "execution_count": 13,
   "id": "9d33ee17eb653d62",
   "metadata": {
    "ExecuteTime": {
     "end_time": "2024-08-02T05:37:24.003386Z",
     "start_time": "2024-08-02T05:37:23.973144Z"
    }
   },
   "outputs": [],
   "source": [
    "def autokey(msg, key):\n",
    "    SmolorBig = lambda x: 'A' if x.isupper() else 'a'\n",
    "    key = (key + msg)[:len(msg)]\n",
    "    return ''.join([chr((ord(m) + ord(k) - 2 * ord(SmolorBig(m))) % 26 + ord(SmolorBig(m))) if m != ' ' else m for m, k in zip(msg, key)])\n",
    "\n",
    "def decAuto(encoded, key):\n",
    "    SmolorBig = lambda x: 'A' if x.isupper() else 'a'\n",
    "    key = (key + encoded)[:len(encoded)] \n",
    "    return ''.join([chr((ord(e) - ord(k) + 26) % 26 + ord(SmolorBig(e))) if e != ' ' else e for e, k in zip(encoded, key)])\n",
    "\n"
   ]
  },
  {
   "cell_type": "code",
   "execution_count": 16,
   "id": "170d3b4e",
   "metadata": {},
   "outputs": [],
   "source": []
  },
  {
   "cell_type": "code",
   "execution_count": 22,
   "id": "48c927ef",
   "metadata": {},
   "outputs": [],
   "source": []
  },
  {
   "cell_type": "code",
   "execution_count": 23,
   "id": "e235b5b3",
   "metadata": {},
   "outputs": [
    {
     "data": {
      "text/plain": [
       "[[14, 32], [32, 77]]"
      ]
     },
     "execution_count": 23,
     "metadata": {},
     "output_type": "execute_result"
    }
   ],
   "source": []
  },
  {
   "cell_type": "code",
   "execution_count": null,
   "id": "95914852",
   "metadata": {},
   "outputs": [],
   "source": []
  }
 ],
 "metadata": {
  "kernelspec": {
   "display_name": "Python 3",
   "language": "python",
   "name": "python3"
  },
  "language_info": {
   "codemirror_mode": {
    "name": "ipython",
    "version": 3
   },
   "file_extension": ".py",
   "mimetype": "text/x-python",
   "name": "python",
   "nbconvert_exporter": "python",
   "pygments_lexer": "ipython3",
   "version": "3.11.4"
  }
 },
 "nbformat": 4,
 "nbformat_minor": 5
}
